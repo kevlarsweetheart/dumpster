{
 "cells": [
  {
   "cell_type": "code",
   "execution_count": 16,
   "metadata": {},
   "outputs": [],
   "source": [
    "import re\n",
    "import json\n",
    "import jsonlines as jl\n",
    "from pathlib import Path\n",
    "import itertools\n",
    "from collections import defaultdict\n",
    "\n",
    "import pickle\n",
    "\n",
    "import warnings\n",
    "\n",
    "import numpy as np\n",
    "\n",
    "from keras.preprocessing.text import Tokenizer\n",
    "\n",
    "import matplotlib.pyplot as plt\n",
    "import plotly.graph_objects as go"
   ]
  },
  {
   "cell_type": "code",
   "execution_count": 2,
   "metadata": {},
   "outputs": [],
   "source": [
    "warnings.filterwarnings(\"ignore\")"
   ]
  },
  {
   "cell_type": "markdown",
   "metadata": {},
   "source": [
    "# Useful Constants"
   ]
  },
  {
   "cell_type": "code",
   "execution_count": 14,
   "metadata": {},
   "outputs": [],
   "source": [
    "#################\n",
    "# Paths and files\n",
    "#################\n",
    "\n",
    "# Data paths\n",
    "INPUT_PATH = Path(\"..\")/\"input\"\n",
    "ALL_TRIPLES = Path(INPUT_PATH)/\"triple_set.jsonl\"\n",
    "\n",
    "# Image paths\n",
    "OUTPUT_PATH = Path(\"..\")/\"result\"\n",
    "WORD_DISTRIBUTION_CHART = Path(OUTPUT_PATH)/\"word_distribution_keras_tokenizer.jpg\"\n",
    "TEXT_LENGTHS_BOX = Path(OUTPUT_PATH)/\"corpus_text_lengths_in_tokens.png\"\n",
    "FIT_TOKENIZER = Path(OUTPUT_PATH)/\"ft_tokenizer.pkl\"\n",
    "\n",
    "###########\n",
    "# Сonstants\n",
    "###########\n",
    "\n",
    "# Data fields\n",
    "ANCHOR = \"anchor\"\n",
    "POSITIVE = \"positive\"\n",
    "NEGATIVE = \"negative\"\n",
    "TYPE2IDX = dict(anchor=0, positive=1, negative=2)\n",
    "\n",
    "# Tokenizer parameters\n",
    "MAX_VOCAB_SIZE = 20000\n",
    "MAX_DOC_FREQUENCY = 0.8\n",
    "MIN_TOKEN_COUNT = 10\n",
    "OOV_TOKEN = 1"
   ]
  },
  {
   "cell_type": "markdown",
   "metadata": {},
   "source": [
    "# Loading Data & Fitting Tokenizer"
   ]
  },
  {
   "cell_type": "code",
   "execution_count": 4,
   "metadata": {},
   "outputs": [],
   "source": [
    "def load_triples(_file):\n",
    "    with jl.open(_file, mode=\"r\") as infile:\n",
    "        triple_lst = [item for item in infile]\n",
    "    return triple_lst"
   ]
  },
  {
   "cell_type": "code",
   "execution_count": 5,
   "metadata": {},
   "outputs": [],
   "source": [
    "def fetch_unique_texts(_file):\n",
    "    with jl.open(_file, mode=\"r\") as infile:\n",
    "        unique_texts = [{item[ANCHOR], item[POSITIVE], item[NEGATIVE]} for item in infile]\n",
    "        unique_texts = list(set().union(*unique_texts))\n",
    "    return unique_texts"
   ]
  },
  {
   "cell_type": "code",
   "execution_count": 6,
   "metadata": {},
   "outputs": [
    {
     "name": "stdout",
     "output_type": "stream",
     "text": [
      "Управление \"жизнью\" дома через смартфон или ПК.\n",
      "\n",
      "Она заготовила дрова на площади Фулиди.\n",
      "\n",
      "Подавление сигнального механизма, опосредованного инсулином и IGF-1, влияет на продолжительность жизни посредством изменения экспрессии генов, кодирующих ряд факторов транскрипции (в том числе DAF-16, FOXO, HSF-1 и SKN-1).\n",
      "\n",
      "Мало кто хочет, чтобы в этот день мы не участвовали в праздновании такого важного дня для нас и всего мира.\n",
      "\n",
      "И вздохнул: везет же людям\".\n"
     ]
    }
   ],
   "source": [
    "# Texts to fit the tokenizer on\n",
    "unique_texts = fetch_unique_texts(ALL_TRIPLES)\n",
    "print(\"\\n\\n\".join(unique_texts[:5]))"
   ]
  },
  {
   "cell_type": "code",
   "execution_count": 7,
   "metadata": {},
   "outputs": [
    {
     "name": "stdout",
     "output_type": "stream",
     "text": [
      "Количество уникальных текстов в выборке: 1998622\n"
     ]
    }
   ],
   "source": [
    "print(\"Количество уникальных текстов в выборке:\", len(unique_texts))"
   ]
  },
  {
   "cell_type": "code",
   "execution_count": 8,
   "metadata": {},
   "outputs": [],
   "source": [
    "TOKENIZER = Tokenizer(num_words=MAX_VOCAB_SIZE, oov_token=OOV_TOKEN)\n",
    "TOKENIZER.fit_on_texts(unique_texts)"
   ]
  },
  {
   "cell_type": "code",
   "execution_count": 9,
   "metadata": {},
   "outputs": [
    {
     "data": {
      "text/plain": [
       "20000"
      ]
     },
     "execution_count": 9,
     "metadata": {},
     "output_type": "execute_result"
    }
   ],
   "source": [
    "NB_WORDS = min(MAX_VOCAB_SIZE, len(TOKENIZER.word_index.items()))\n",
    "NB_WORDS"
   ]
  },
  {
   "cell_type": "markdown",
   "metadata": {},
   "source": [
    "# Word Frequency Distribution"
   ]
  },
  {
   "cell_type": "code",
   "execution_count": 10,
   "metadata": {},
   "outputs": [],
   "source": [
    "def build_vocabulary_frequency(tokenized_texts,\n",
    "                               max_size=MAX_VOCAB_SIZE,\n",
    "                               max_doc_frequency=MAX_DOC_FREQUENCY,\n",
    "                               min_count=MIN_TOKEN_COUNT,\n",
    "                               pad_word=None):\n",
    "    word_counts = defaultdict(int)\n",
    "    doc_num = 0\n",
    "    \n",
    "    # Document frequency for each token\n",
    "    for text in tokenized_texts:\n",
    "        doc_num += 1\n",
    "        unique_text_tokens = set(text)\n",
    "        for token in unique_text_tokens:\n",
    "            word_counts[token] += 1\n",
    "            \n",
    "    # Cutting off the most and the least frequent tokens\n",
    "    word_counts = {token: cnt for token, cnt in word_counts.items()\n",
    "                   if cnt >= min_count and cnt / doc_num <= max_doc_frequency}\n",
    "    \n",
    "    # Sorting the tokens in descending order of frequency\n",
    "    sorted_word_counts = sorted(word_counts.items(), reverse=True, key=lambda _: _[1])\n",
    "    if pad_word is not None:\n",
    "        sorted_word_counts = [(pad_word, 0)] + sorted_word_counts\n",
    "        \n",
    "    # Facing the vocabulary size limit\n",
    "    if len(word_counts) > max_size:\n",
    "        sorted_word_counts = sorted_word_counts[:max_size]\n",
    "        \n",
    "    # Normalizing token frequencies\n",
    "    word2freq = np.array([cnt / doc_num for _, cnt in sorted_word_counts], dtype=\"float32\")\n",
    "    \n",
    "    return word2freq"
   ]
  },
  {
   "cell_type": "code",
   "execution_count": 11,
   "metadata": {},
   "outputs": [],
   "source": [
    "unique_texts_tokenized = TOKENIZER.texts_to_sequences(unique_texts)\n",
    "token2frequency = build_vocabulary_frequency(unique_texts_tokenized)"
   ]
  },
  {
   "cell_type": "code",
   "execution_count": 12,
   "metadata": {},
   "outputs": [
    {
     "data": {
      "image/png": "[encoded data removed]",
      "text/plain": [
       "<Figure size 432x288 with 1 Axes>"
      ]
     },
     "metadata": {
      "needs_background": "light"
     },
     "output_type": "display_data"
    }
   ],
   "source": [
    "plt.hist(token2frequency, bins=20)\n",
    "plt.title(\"Распределение относительных частот токенов\")\n",
    "plt.yscale(\"log\")\n",
    "\n",
    "plt.savefig(WORD_DISTRIBUTION_CHART, bbox_inches='tight')\n",
    "plt.show()"
   ]
  },
  {
   "cell_type": "markdown",
   "metadata": {},
   "source": [
    "# Text Length Analysis"
   ]
  },
  {
   "cell_type": "code",
   "execution_count": 13,
   "metadata": {},
   "outputs": [
    {
     "name": "stdout",
     "output_type": "stream",
     "text": [
      "Максимальная длина текста в токенах: 164\n",
      "Минимальна длина текста в токенах: 1\n",
      "Средняя длина текста в токенах: 13.871706605851431\n"
     ]
    }
   ],
   "source": [
    "text_lengths = list(map(len, unique_texts_tokenized))\n",
    "\n",
    "print(\"Максимальная длина текста в токенах:\", max(text_lengths))\n",
    "print(\"Минимальна длина текста в токенах:\", min(text_lengths))\n",
    "print(\"Средняя длина текста в токенах:\", sum(text_lengths) / len(text_lengths))"
   ]
  },
  {
   "cell_type": "code",
   "execution_count": 17,
   "metadata": {},
   "outputs": [],
   "source": [
    "with open(FIT_TOKENIZER, \"wb\") as outfile:\n",
    "    pickle.dump(TOKENIZER, outfile)"
   ]
  },
  {
   "cell_type": "code",
   "execution_count": null,
   "metadata": {},
   "outputs": [],
   "source": []
  }
 ],
 "metadata": {
  "kernelspec": {
   "display_name": "search_env",
   "language": "python",
   "name": "search_env"
  },
  "language_info": {
   "codemirror_mode": {
    "name": "ipython",
    "version": 3
   },
   "file_extension": ".py",
   "mimetype": "text/x-python",
   "name": "python",
   "nbconvert_exporter": "python",
   "pygments_lexer": "ipython3",
   "version": "3.7.0"
  }
 },
 "nbformat": 4,
 "nbformat_minor": 4
}
