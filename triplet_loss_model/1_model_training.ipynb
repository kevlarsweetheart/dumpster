{
 "cells": [
  {
   "cell_type": "code",
   "execution_count": 3,
   "metadata": {},
   "outputs": [],
   "source": [
    "import os\n",
    "import re\n",
    "import json\n",
    "import jsonlines as jl\n",
    "import joblib\n",
    "from pathlib import Path\n",
    "import itertools\n",
    "from collections import defaultdict\n",
    "\n",
    "import pickle\n",
    "\n",
    "import numpy as np\n",
    "from numpy.linalg import norm\n",
    "\n",
    "from tqdm import tqdm\n",
    "\n",
    "from scipy.stats import spearmanr, pearsonr\n",
    "from sklearn.model_selection import train_test_split\n",
    "\n",
    "import torch\n",
    "from torch import nn\n",
    "import torch.nn.functional as F\n",
    "from torch.optim import Adam\n",
    "from torch.utils.data import TensorDataset, DataLoader\n",
    "from torch.utils.data.distributed import DistributedSampler\n",
    "\n",
    "from transformers import get_scheduler\n",
    "\n",
    "from keras.preprocessing.text import Tokenizer"
   ]
  },
  {
   "cell_type": "markdown",
   "metadata": {},
   "source": [
    "# Useful Constants"
   ]
  },
  {
   "cell_type": "code",
   "execution_count": 4,
   "metadata": {},
   "outputs": [],
   "source": [
    "#################\n",
    "# Paths and files\n",
    "#################\n",
    "\n",
    "# Data paths\n",
    "INPUT_PATH = Path(\"..\")/\"input\"\n",
    "ALL_TRIPLES = Path(INPUT_PATH)/\"triple_set.jsonl\"\n",
    "TRAIN_TRIPLES = Path(INPUT_PATH)/\"train_triples.jsonl\"\n",
    "VAL_TRIPLES = Path(INPUT_PATH)/\"val_triples.jsonl\"\n",
    "TEST_TRIPLES = Path(INPUT_PATH)/\"test_triples.jsonl\"\n",
    "\n",
    "# Model paths\n",
    "OUTPUT_PATH = Path(\"..\")/\"result\"\n",
    "FASTTEXT = \"./ft_all_phr_2022_30_03_top_100000.pkl\"\n",
    "FIT_TOKENIZER = Path(OUTPUT_PATH)/\"ft_tokenizer.pkl\"\n",
    "OUTPUT_MODEL = Path(OUTPUT_PATH)/\"triplet_loss_model.sav\"\n",
    "\n",
    "###########\n",
    "# Сonstants\n",
    "###########\n",
    "\n",
    "# Data fields\n",
    "ANCHOR = \"anchor\"\n",
    "POSITIVE = \"positive\"\n",
    "NEGATIVE = \"negative\"\n",
    "TYPE2IDX = dict(anchor=0, positive=1, negative=2)\n",
    "\n",
    "# Devices and threads\n",
    "GPU_NUM = torch.cuda.device_count()\n",
    "GPU_IDS = [f'cuda:{_id}' for _id in range(GPU_NUM)]\n",
    "\n",
    "# Model parameters\n",
    "VOCAB_SIZE = 20000\n",
    "EMBEDDING_SIZE = 300\n",
    "LSTM_SIZE = 128\n",
    "LSTM_NUM_LAYERS = 3\n",
    "OUT_EMBEDDING_SIZE = 768\n",
    "TRAIN_BATCH_SIZE = 1024\n",
    "VAL_BATCH_SIZE = 1024\n",
    "MAX_SEQ_LEN = 32"
   ]
  },
  {
   "cell_type": "markdown",
   "metadata": {},
   "source": [
    "# Loading Data"
   ]
  },
  {
   "cell_type": "code",
   "execution_count": 5,
   "metadata": {},
   "outputs": [],
   "source": [
    "def load_triples(_file):\n",
    "    with jl.open(_file, mode=\"r\") as infile:\n",
    "        triple_lst = [item for item in infile]\n",
    "    return triple_lst"
   ]
  },
  {
   "cell_type": "code",
   "execution_count": 6,
   "metadata": {},
   "outputs": [],
   "source": [
    "with open(FIT_TOKENIZER, \"rb\") as infile:\n",
    "    TOKENIZER = pickle.load(infile)"
   ]
  },
  {
   "cell_type": "code",
   "execution_count": 7,
   "metadata": {},
   "outputs": [
    {
     "data": {
      "text/plain": [
       "20000"
      ]
     },
     "execution_count": 7,
     "metadata": {},
     "output_type": "execute_result"
    }
   ],
   "source": [
    "NB_WORDS = min(VOCAB_SIZE, len(TOKENIZER.word_index.items()))\n",
    "NB_WORDS"
   ]
  },
  {
   "cell_type": "code",
   "execution_count": 10,
   "metadata": {},
   "outputs": [
    {
     "name": "stdout",
     "output_type": "stream",
     "text": [
      "False\n"
     ]
    }
   ],
   "source": [
    "dataset_is_split = os.path.exists(TRAIN_TRIPLES) and os.path.exists(VAL_TRIPLES) and os.path.exists(TEST_TRIPLES)\n",
    "\n",
    "if not dataset_is_split:\n",
    "    # Split data\n",
    "    all_triples = load_triples(ALL_TRIPLES)\n",
    "    train_triples, val_test_triples = train_test_split(all_triples, test_size=0.3, random_state=1)\n",
    "    val_triples, test_triples = train_test_split(val_test_triples, test_size=0.33, random_state=1)\n",
    "    # Dump sets\n",
    "    with jl.open(TRAIN_TRIPLES, mode=\"w\") as outfile:\n",
    "        outfile.write_all(train_triples)\n",
    "    with jl.open(VAL_TRIPLES, mode=\"w\") as outfile:\n",
    "        outfile.write_all(val_triples)\n",
    "    with jl.open(TEST_TRIPLES, mode=\"w\") as outfile:\n",
    "        outfile.write_all(test_triples)\n",
    "else:\n",
    "    train_triples = load_triples(TRAIN_TRIPLES)\n",
    "    val_triples = load_triples(VAL_TRIPLES)"
   ]
  },
  {
   "cell_type": "markdown",
   "metadata": {},
   "source": [
    "# FastText + BiLSTM Training"
   ]
  },
  {
   "cell_type": "code",
   "execution_count": 11,
   "metadata": {},
   "outputs": [],
   "source": [
    "# Utilities\n",
    "\n",
    "class _dict(dict):\n",
    "    __getattr__ = dict.get\n",
    "    __setattr__ = dict.__setitem__\n",
    "    __delattr__ = dict.__delitem__\n",
    "    \n",
    "    def __getstate__(self):\n",
    "        return self.__dict__\n",
    "    \n",
    "    def __setstate__(self, d):\n",
    "        return self.__dict__.update(d)"
   ]
  },
  {
   "cell_type": "code",
   "execution_count": 12,
   "metadata": {},
   "outputs": [],
   "source": [
    "class TextPreprocessor:\n",
    "    def __init__(self, args=None, tokenizer=TOKENIZER, pretrained_embeddings=FASTTEXT):\n",
    "        if args is not None:\n",
    "            self.args = vars(args)\n",
    "        if not args:\n",
    "            self.args = _dict(tokenizer=tokenizer,\n",
    "                             pretrained_embeddings=joblib.load(pretrained_embeddings))\n",
    "            \n",
    "    def to_matrix(self, data, _dtype=torch.int64, batch_first=True):\n",
    "        indexed_data = [[], [], []]\n",
    "        \n",
    "        # Texts to token IDs\n",
    "        for item in data:\n",
    "            indexed_data[0].append(self.clean_text(item[ANCHOR]))\n",
    "            indexed_data[1].append(self.clean_text(item[POSITIVE]))\n",
    "            indexed_data[2].append(self.clean_text(item[NEGATIVE]))\n",
    "        indexed_data = list(map(self.args.tokenizer.texts_to_sequences, indexed_data))\n",
    "        \n",
    "        # Sequence length dimension size\n",
    "        max_seq_len = MAX_SEQ_LEN\n",
    "        \n",
    "        # Filling the padded matrix\n",
    "        _size = len(data)\n",
    "        out_matrix = torch.zeros((_size, 3, max_seq_len), dtype=_dtype)\n",
    "        for idx in range(_size):\n",
    "            for item_type in range(3):\n",
    "                bound = min(len(indexed_data[item_type][idx]), max_seq_len)\n",
    "                out_matrix[idx, item_type, :bound] = torch.from_numpy(\n",
    "                    np.array(indexed_data[item_type][idx][:bound]))\n",
    "        if not batch_first:\n",
    "            out_matrix = out_matrix.permute(1, 2, 0)\n",
    "            \n",
    "        return out_matrix\n",
    "    \n",
    "    def build_embedding_matrix(self, emb_size=EMBEDDING_SIZE, nb_words=NB_WORDS, _dtype=torch.float32):\n",
    "        embedding_matrix = torch.zeros((nb_words + 1, emb_size), dtype=_dtype)\n",
    "        oof_tokens = set()\n",
    "        \n",
    "        for word, i in self.args.tokenizer.word_index.items():\n",
    "            if i >= VOCAB_SIZE + 1:\n",
    "                continue\n",
    "            embedding_vector = None\n",
    "            try:\n",
    "                embedding_vector = self.args.pretrained_embeddings[word] \n",
    "            except:\n",
    "                oof_tokens.add(word)\n",
    "            if embedding_vector is not None:\n",
    "                embedding_matrix[i, :] = torch.from_numpy(embedding_vector)\n",
    "                \n",
    "        print(f\"{len(oof_tokens)} out of FastText tokens\")\n",
    "        return embedding_matrix\n",
    "    \n",
    "    @staticmethod\n",
    "    def clean_text(_text):\n",
    "        _text = re.sub(\"\\n|(</?[^>]*>)\", \" \", _text)\n",
    "        _text = re.sub(\"\\.\\s\", \" \", _text)\n",
    "        _text = re.sub('здравствуйте', '', _text)\n",
    "        _text = re.sub('добрый день', '', _text)\n",
    "        _text = re.sub(r\"\\s+\", \" \", _text)\n",
    "        return _text.strip()"
   ]
  },
  {
   "cell_type": "code",
   "execution_count": 13,
   "metadata": {},
   "outputs": [
    {
     "name": "stdout",
     "output_type": "stream",
     "text": [
      "3153 out of FastText tokens\n"
     ]
    },
    {
     "data": {
      "text/plain": [
       "torch.Size([20001, 300])"
      ]
     },
     "execution_count": 13,
     "metadata": {},
     "output_type": "execute_result"
    }
   ],
   "source": [
    "text_preprocessor = TextPreprocessor()\n",
    "embedding_matrix = text_preprocessor.build_embedding_matrix()\n",
    "embedding_matrix.shape"
   ]
  },
  {
   "cell_type": "code",
   "execution_count": 14,
   "metadata": {},
   "outputs": [],
   "source": [
    "class TripletSet:\n",
    "    def __init__(self, train_data, val_data,\n",
    "                 preprocessor=text_preprocessor, batch_size=(TRAIN_BATCH_SIZE, VAL_BATCH_SIZE)):\n",
    "        kwargs = self.make_kwargs()\n",
    "        \n",
    "        train_features = preprocessor.to_matrix(train_data)\n",
    "        train_labels = torch.ones(len(train_data))\n",
    "        val_features = preprocessor.to_matrix(val_data)\n",
    "        val_labels = torch.ones(len(val_data))\n",
    "        \n",
    "        self.train_set = TensorDataset(train_features, train_labels)\n",
    "        self.train_loader = DataLoader(self.train_set, batch_size=batch_size[0],\n",
    "                                       drop_last=True, shuffle=True, **kwargs)\n",
    "        self.val_set = TensorDataset(val_features, val_labels)\n",
    "        self.val_loader = DataLoader(self.val_set, batch_size=batch_size[1],\n",
    "                                     drop_last=True, shuffle=True, **kwargs)\n",
    "        \n",
    "    @staticmethod\n",
    "    def make_kwargs():\n",
    "        use_cuda = torch.cuda.is_available()\n",
    "        print(f\"Use CUDA {use_cuda}\")\n",
    "        kwargs = {'num_workers': 4 * GPU_NUM, 'pin_memory': True} if use_cuda else {}\n",
    "        return kwargs"
   ]
  },
  {
   "cell_type": "code",
   "execution_count": 15,
   "metadata": {},
   "outputs": [
    {
     "name": "stdout",
     "output_type": "stream",
     "text": [
      "Use CUDA True\n"
     ]
    }
   ],
   "source": [
    "_dataset = TripletSet(train_triples, val_triples)"
   ]
  },
  {
   "cell_type": "code",
   "execution_count": 16,
   "metadata": {},
   "outputs": [],
   "source": [
    "class SoftmaxLoss(nn.Module):\n",
    "    def __init__(self, _loss=(lambda _: F.relu(_))):\n",
    "        super(SoftmaxLoss, self).__init__()\n",
    "        self.loss_func = _loss\n",
    "        \n",
    "    def forward(self, anchor, positive, negative, is_test=False):\n",
    "        positive_similarity = torch.sum(anchor * positive, axis=-1, keepdims=True)\n",
    "        _matmul = torch.matmul(anchor, torch.transpose(negative, 0, 1))\n",
    "        negative_similarity = torch.log(torch.sum(\n",
    "            torch.exp(_matmul), axis=-1, keepdims=True))\n",
    "        loss = self.loss_func(negative_similarity - positive_similarity)\n",
    "        return loss\n",
    "    \n",
    "    @staticmethod\n",
    "    def mean_loss(_true, _predicted):\n",
    "        _mean = torch.mean(_predicted - 0 * _true, dim=0)\n",
    "        return _mean"
   ]
  },
  {
   "cell_type": "code",
   "execution_count": 17,
   "metadata": {},
   "outputs": [],
   "source": [
    "class TripletLossModel(nn.Module):\n",
    "    def __init__(self, criterion,\n",
    "                 init_weights=embedding_matrix,\n",
    "                 emb_size=EMBEDDING_SIZE, vocab_size=VOCAB_SIZE,\n",
    "                 lstm_num_layers=LSTM_NUM_LAYERS,\n",
    "                 lstm_hidden_size=LSTM_SIZE, is_bi=True,\n",
    "                 out_emb_size=OUT_EMBEDDING_SIZE,\n",
    "                 batch_first=True, dropout=0.2, norm_eps=1e-12):\n",
    "        super(TripletLossModel, self).__init__()\n",
    "        \n",
    "        # Parameters\n",
    "        self.emb_size = emb_size\n",
    "        self.vocab_size = vocab_size\n",
    "        self.lstm_num_layers = lstm_num_layers\n",
    "        self.lstm_hidden_size = lstm_hidden_size\n",
    "        self.directions = int(is_bi) + 1\n",
    "        self.out_emb_size = out_emb_size\n",
    "        \n",
    "        # Layers\n",
    "        self.embedding = nn.Embedding(self.vocab_size + 1, self.emb_size)\n",
    "        self.embedding.weight = nn.Parameter(init_weights)\n",
    "        self.lstm = nn.LSTM(input_size=self.emb_size, hidden_size=self.lstm_hidden_size,\n",
    "                            num_layers=self.lstm_num_layers, bidirectional=is_bi,\n",
    "                            batch_first=batch_first, dropout=dropout)\n",
    "        self.cosine_similarity = nn.CosineSimilarity(dim=1, eps=1e-6)\n",
    "        \n",
    "        self.best = defaultdict(int)\n",
    "        \n",
    "    def forward(self, _input):\n",
    "        anchor_input = self.fetch_triplet_item(_input, ANCHOR)\n",
    "        positive_input = self.fetch_triplet_item(_input, POSITIVE)\n",
    "        negative_input = self.fetch_triplet_item(_input, NEGATIVE)\n",
    "        \n",
    "        encoded_anchor = self.encode(anchor_input)\n",
    "        encoded_positive = self.encode(positive_input)\n",
    "        encoded_negative = self.encode(negative_input)\n",
    "        \n",
    "        cosine_pos = self.cos(encoded_anchor, encoded_positive)\n",
    "        cosine_neg = self.cos(encoded_anchor, encoded_negative)\n",
    "        \n",
    "        return _dict(anchor=encoded_anchor,\n",
    "                    positive=encoded_positive,\n",
    "                    negative=encoded_negative,\n",
    "                    cos_sim=(cosine_pos, cosine_neg))\n",
    "        \n",
    "    def encode(self, tokenized_seq, _const=0.5):\n",
    "        encoded_seq = self.embedding(tokenized_seq)\n",
    "        encoded_seq, _ = self.lstm(encoded_seq)\n",
    "        encoded_seq = encoded_seq[:, -1, :] * _const\n",
    "        return encoded_seq\n",
    "        \n",
    "    @staticmethod\n",
    "    def fetch_triplet_item(_input, item_type):\n",
    "        if TYPE2IDX.get(item_type) is None:\n",
    "            raise Exception(f\"No item type {item_type}\")\n",
    "        return _input[:, TYPE2IDX[item_type], :]\n",
    "    \n",
    "    def cos(self, u, v):\n",
    "        return self.cosine_similarity(u, v)"
   ]
  },
  {
   "cell_type": "code",
   "execution_count": 18,
   "metadata": {},
   "outputs": [],
   "source": [
    "class ModelPipeline:\n",
    "    def __init__(self, dataset, model, criterion, optimizer, device):\n",
    "        self.dataset = dataset\n",
    "        self.model = model\n",
    "        self.criterion = criterion\n",
    "        self.optimizer = optimizer\n",
    "        self.device = torch.device(device)\n",
    "        self.lr_scheduler = None\n",
    "        \n",
    "        self.best = defaultdict(int)\n",
    "        self.progress_bar = None\n",
    "        \n",
    "    def fit(self, epoch_num, log_interval=10):\n",
    "        if self.device.type == 'cuda':\n",
    "            self.model.cuda()\n",
    "        \n",
    "        num_steps = epoch_num * len(self.dataset.train_loader)\n",
    "        \n",
    "        self.progress_bar = tqdm(range(num_steps), position=0, leave=True)\n",
    "        self.lr_scheduler = get_scheduler(name=\"linear\", optimizer=self.optimizer,\n",
    "                                    num_warmup_steps=0, num_training_steps=num_steps)\n",
    "        for epoch in range(epoch_num):\n",
    "            self.train_epoch(epoch)\n",
    "            \n",
    "            if (epoch + 1) % log_interval == 0 or epoch == 0:\n",
    "                print()\n",
    "                self.validate()\n",
    "                print()\n",
    "    \n",
    "    def train_epoch(self, epoch):\n",
    "        self.model.train()\n",
    "        \n",
    "        epoch_loss = []\n",
    "        \n",
    "        for _input, _target in self.dataset.train_loader:\n",
    "            if self.device.type == 'cuda':\n",
    "                _input, _target = _input.cuda(), _target.cuda()\n",
    "            \n",
    "            _output = self.model(_input)\n",
    "            loss = self.criterion(_output.anchor, _output.positive, _output.negative)\n",
    "            mean_loss = self.criterion.mean_loss(loss, loss)\n",
    "            epoch_loss.append(mean_loss.cpu().item())\n",
    "            \n",
    "            mean_loss.backward()\n",
    "            self.optimizer.step()\n",
    "            self.lr_scheduler.step()\n",
    "            self.optimizer.zero_grad()\n",
    "            \n",
    "            self.progress_bar.update(1)\n",
    "            \n",
    "        print(f\"Epoch #{epoch + 1}\\nMean epoch loss: {sum(epoch_loss) / len(epoch_loss)}\")\n",
    "    \n",
    "    def validate(self):\n",
    "        self.model.eval()\n",
    "        \n",
    "        with torch.no_grad():\n",
    "            cosine_dist, targets = [], []\n",
    "            \n",
    "            for _input, _target in self.dataset.val_loader:\n",
    "                if self.device.type == \"cuda\":\n",
    "                    _input, _target = _input.cuda(), _target.cuda()\n",
    "                \n",
    "                _output = self.model(_input)\n",
    "                cosine_dist.append(_output.cos_sim[0])\n",
    "                cosine_dist.append(_output.cos_sim[1])\n",
    "                targets.append(_target)\n",
    "                targets.append(_target * -1)\n",
    "                \n",
    "            cosine_dist = torch.cat(cosine_dist).cpu().detach().numpy()\n",
    "            targets = torch.cat(targets)\n",
    "            targets = torch.squeeze(targets).cpu().detach().numpy()\n",
    "        \n",
    "        for metric, func in [(\"spearman_r\", spearmanr), (\"pearson_r\", pearsonr)]:\n",
    "            coef, _ = func(targets, cosine_dist)\n",
    "            coef = np.round(coef, 4)\n",
    "\n",
    "            metric_name = f\"{metric}\"\n",
    "            message = f\"{metric} = {coef}\"\n",
    "            if coef > self.best[metric_name]:\n",
    "                self.best[metric_name] = coef\n",
    "                message = \"*** New best: \" + message\n",
    "                if metric == \"spearman_r\":\n",
    "                    torch.save(self.model.state_dict(), OUTPUT_MODEL)\n",
    "\n",
    "            print(message)"
   ]
  },
  {
   "cell_type": "code",
   "execution_count": 19,
   "metadata": {},
   "outputs": [],
   "source": [
    "_model = TripletLossModel(embedding_matrix)\n",
    "_criterion = SoftmaxLoss()\n",
    "_optimizer = Adam(_model.parameters(), lr=1e-5)\n",
    "_device = torch.device(\"cuda\" if torch.cuda.is_available() else \"cpu\")\n",
    "\n",
    "evaluation_pipeline = ModelPipeline(dataset=_dataset, model=_model, criterion=_criterion,\n",
    "                                    optimizer=_optimizer, device=_device)"
   ]
  },
  {
   "cell_type": "code",
   "execution_count": 20,
   "metadata": {
    "scrolled": true
   },
   "outputs": [
    {
     "name": "stderr",
     "output_type": "stream",
     "text": [
      "  1%|          | 683/102450 [01:28<3:29:12,  8.11it/s]"
     ]
    },
    {
     "name": "stdout",
     "output_type": "stream",
     "text": [
      "Epoch #1\n",
      "Mean epoch loss: 6.61628636154912\n",
      "\n",
      "*** New best: spearman_r = 0.6213\n",
      "*** New best: pearson_r = 0.5877\n",
      "\n"
     ]
    },
    {
     "name": "stderr",
     "output_type": "stream",
     "text": [
      "  1%|▏         | 1366/102450 [03:08<3:27:43,  8.11it/s] "
     ]
    },
    {
     "name": "stdout",
     "output_type": "stream",
     "text": [
      "Epoch #2\n",
      "Mean epoch loss: 5.869832014444108\n"
     ]
    },
    {
     "name": "stderr",
     "output_type": "stream",
     "text": [
      "  2%|▏         | 2049/102450 [04:37<3:26:06,  8.12it/s] "
     ]
    },
    {
     "name": "stdout",
     "output_type": "stream",
     "text": [
      "Epoch #3\n",
      "Mean epoch loss: 5.729963161585795\n"
     ]
    },
    {
     "name": "stderr",
     "output_type": "stream",
     "text": [
      "  3%|▎         | 2732/102450 [06:07<3:24:22,  8.13it/s] "
     ]
    },
    {
     "name": "stdout",
     "output_type": "stream",
     "text": [
      "Epoch #4\n",
      "Mean epoch loss: 5.232154555760575\n"
     ]
    },
    {
     "name": "stderr",
     "output_type": "stream",
     "text": [
      "  3%|▎         | 3415/102450 [07:37<3:22:33,  8.15it/s] "
     ]
    },
    {
     "name": "stdout",
     "output_type": "stream",
     "text": [
      "Epoch #5\n",
      "Mean epoch loss: 4.841225570326843\n"
     ]
    },
    {
     "name": "stderr",
     "output_type": "stream",
     "text": [
      "  4%|▍         | 4098/102450 [09:06<3:22:19,  8.10it/s] "
     ]
    },
    {
     "name": "stdout",
     "output_type": "stream",
     "text": [
      "Epoch #6\n",
      "Mean epoch loss: 4.649304404614785\n"
     ]
    },
    {
     "name": "stderr",
     "output_type": "stream",
     "text": [
      "  5%|▍         | 4781/102450 [10:36<3:20:49,  8.11it/s] "
     ]
    },
    {
     "name": "stdout",
     "output_type": "stream",
     "text": [
      "Epoch #7\n",
      "Mean epoch loss: 4.397690212394972\n"
     ]
    },
    {
     "name": "stderr",
     "output_type": "stream",
     "text": [
      "  5%|▌         | 5464/102450 [12:06<3:18:49,  8.13it/s] "
     ]
    },
    {
     "name": "stdout",
     "output_type": "stream",
     "text": [
      "Epoch #8\n",
      "Mean epoch loss: 4.159221550032474\n"
     ]
    },
    {
     "name": "stderr",
     "output_type": "stream",
     "text": [
      "  6%|▌         | 6147/102450 [13:35<3:17:31,  8.13it/s] "
     ]
    },
    {
     "name": "stdout",
     "output_type": "stream",
     "text": [
      "Epoch #9\n",
      "Mean epoch loss: 3.9760308307575096\n"
     ]
    },
    {
     "name": "stderr",
     "output_type": "stream",
     "text": [
      "  7%|▋         | 6830/102450 [15:05<3:16:20,  8.12it/s] "
     ]
    },
    {
     "name": "stdout",
     "output_type": "stream",
     "text": [
      "Epoch #10\n",
      "Mean epoch loss: 3.823870537745307\n",
      "\n",
      "*** New best: spearman_r = 0.8294\n",
      "*** New best: pearson_r = 0.7907\n",
      "\n"
     ]
    },
    {
     "name": "stderr",
     "output_type": "stream",
     "text": [
      "  7%|▋         | 7513/102450 [16:46<3:15:00,  8.11it/s]  "
     ]
    },
    {
     "name": "stdout",
     "output_type": "stream",
     "text": [
      "Epoch #11\n",
      "Mean epoch loss: 3.6847287477546344\n"
     ]
    },
    {
     "name": "stderr",
     "output_type": "stream",
     "text": [
      "  8%|▊         | 8196/102450 [18:16<3:13:10,  8.13it/s] "
     ]
    },
    {
     "name": "stdout",
     "output_type": "stream",
     "text": [
      "Epoch #12\n",
      "Mean epoch loss: 3.555432537464237\n"
     ]
    },
    {
     "name": "stderr",
     "output_type": "stream",
     "text": [
      "  9%|▊         | 8879/102450 [19:45<3:11:38,  8.14it/s] "
     ]
    },
    {
     "name": "stdout",
     "output_type": "stream",
     "text": [
      "Epoch #13\n",
      "Mean epoch loss: 3.4399554956360756\n"
     ]
    },
    {
     "name": "stderr",
     "output_type": "stream",
     "text": [
      "  9%|▉         | 9562/102450 [21:15<3:10:43,  8.12it/s] "
     ]
    },
    {
     "name": "stdout",
     "output_type": "stream",
     "text": [
      "Epoch #14\n",
      "Mean epoch loss: 3.326565832205084\n"
     ]
    },
    {
     "name": "stderr",
     "output_type": "stream",
     "text": [
      " 10%|█         | 10245/102450 [22:45<3:09:47,  8.10it/s]"
     ]
    },
    {
     "name": "stdout",
     "output_type": "stream",
     "text": [
      "Epoch #15\n",
      "Mean epoch loss: 3.1893108903401766\n"
     ]
    },
    {
     "name": "stderr",
     "output_type": "stream",
     "text": [
      " 11%|█         | 10928/102450 [24:15<3:08:02,  8.11it/s] "
     ]
    },
    {
     "name": "stdout",
     "output_type": "stream",
     "text": [
      "Epoch #16\n",
      "Mean epoch loss: 3.0322265157238806\n"
     ]
    },
    {
     "name": "stderr",
     "output_type": "stream",
     "text": [
      " 11%|█▏        | 11611/102450 [25:44<3:06:27,  8.12it/s] "
     ]
    },
    {
     "name": "stdout",
     "output_type": "stream",
     "text": [
      "Epoch #17\n",
      "Mean epoch loss: 2.893772584627523\n"
     ]
    },
    {
     "name": "stderr",
     "output_type": "stream",
     "text": [
      " 12%|█▏        | 12294/102450 [27:14<3:05:05,  8.12it/s] "
     ]
    },
    {
     "name": "stdout",
     "output_type": "stream",
     "text": [
      "Epoch #18\n",
      "Mean epoch loss: 2.7603778067654434\n"
     ]
    },
    {
     "name": "stderr",
     "output_type": "stream",
     "text": [
      " 13%|█▎        | 12977/102450 [28:45<3:03:30,  8.13it/s] "
     ]
    },
    {
     "name": "stdout",
     "output_type": "stream",
     "text": [
      "Epoch #19\n",
      "Mean epoch loss: 2.6320635675511284\n"
     ]
    },
    {
     "name": "stderr",
     "output_type": "stream",
     "text": [
      " 13%|█▎        | 13660/102450 [30:15<3:02:08,  8.12it/s] "
     ]
    },
    {
     "name": "stdout",
     "output_type": "stream",
     "text": [
      "Epoch #20\n",
      "Mean epoch loss: 2.511042615854199\n",
      "\n",
      "*** New best: spearman_r = 0.8487\n",
      "*** New best: pearson_r = 0.8433\n",
      "\n"
     ]
    },
    {
     "name": "stderr",
     "output_type": "stream",
     "text": [
      " 14%|█▍        | 14343/102450 [32:00<3:00:50,  8.12it/s]  "
     ]
    },
    {
     "name": "stdout",
     "output_type": "stream",
     "text": [
      "Epoch #21\n",
      "Mean epoch loss: 2.407414848947595\n"
     ]
    },
    {
     "name": "stderr",
     "output_type": "stream",
     "text": [
      " 15%|█▍        | 15026/102450 [33:30<2:59:13,  8.13it/s] "
     ]
    },
    {
     "name": "stdout",
     "output_type": "stream",
     "text": [
      "Epoch #22\n",
      "Mean epoch loss: 2.312931313521691\n"
     ]
    },
    {
     "name": "stderr",
     "output_type": "stream",
     "text": [
      " 15%|█▌        | 15709/102450 [35:00<2:57:52,  8.13it/s] "
     ]
    },
    {
     "name": "stdout",
     "output_type": "stream",
     "text": [
      "Epoch #23\n",
      "Mean epoch loss: 2.228655698184213\n"
     ]
    },
    {
     "name": "stderr",
     "output_type": "stream",
     "text": [
      " 16%|█▌        | 16392/102450 [36:30<2:56:20,  8.13it/s] "
     ]
    },
    {
     "name": "stdout",
     "output_type": "stream",
     "text": [
      "Epoch #24\n",
      "Mean epoch loss: 2.1472087492879974\n"
     ]
    },
    {
     "name": "stderr",
     "output_type": "stream",
     "text": [
      " 17%|█▋        | 17075/102450 [38:00<2:55:03,  8.13it/s] "
     ]
    },
    {
     "name": "stdout",
     "output_type": "stream",
     "text": [
      "Epoch #25\n",
      "Mean epoch loss: 2.067263014669125\n"
     ]
    },
    {
     "name": "stderr",
     "output_type": "stream",
     "text": [
      " 17%|█▋        | 17758/102450 [39:30<2:53:39,  8.13it/s] "
     ]
    },
    {
     "name": "stdout",
     "output_type": "stream",
     "text": [
      "Epoch #26\n",
      "Mean epoch loss: 1.9864025325412107\n"
     ]
    },
    {
     "name": "stderr",
     "output_type": "stream",
     "text": [
      " 18%|█▊        | 18441/102450 [41:00<2:52:02,  8.14it/s] "
     ]
    },
    {
     "name": "stdout",
     "output_type": "stream",
     "text": [
      "Epoch #27\n",
      "Mean epoch loss: 1.9039945389480926\n"
     ]
    },
    {
     "name": "stderr",
     "output_type": "stream",
     "text": [
      " 19%|█▊        | 19124/102450 [42:30<2:50:49,  8.13it/s] "
     ]
    },
    {
     "name": "stdout",
     "output_type": "stream",
     "text": [
      "Epoch #28\n",
      "Mean epoch loss: 1.81931050507949\n"
     ]
    },
    {
     "name": "stderr",
     "output_type": "stream",
     "text": [
      " 19%|█▉        | 19807/102450 [44:00<2:49:32,  8.12it/s] "
     ]
    },
    {
     "name": "stdout",
     "output_type": "stream",
     "text": [
      "Epoch #29\n",
      "Mean epoch loss: 1.7394453815974045\n"
     ]
    },
    {
     "name": "stderr",
     "output_type": "stream",
     "text": [
      " 20%|██        | 20490/102450 [45:30<2:48:00,  8.13it/s] "
     ]
    },
    {
     "name": "stdout",
     "output_type": "stream",
     "text": [
      "Epoch #30\n",
      "Mean epoch loss: 1.6681588800899456\n",
      "\n",
      "*** New best: spearman_r = 0.8567\n",
      "*** New best: pearson_r = 0.87\n",
      "\n"
     ]
    },
    {
     "name": "stderr",
     "output_type": "stream",
     "text": [
      " 21%|██        | 21173/102450 [47:12<2:46:26,  8.14it/s]  "
     ]
    },
    {
     "name": "stdout",
     "output_type": "stream",
     "text": [
      "Epoch #31\n",
      "Mean epoch loss: 1.603481118361388\n"
     ]
    },
    {
     "name": "stderr",
     "output_type": "stream",
     "text": [
      " 21%|██▏       | 21856/102450 [48:42<2:45:40,  8.11it/s] "
     ]
    },
    {
     "name": "stdout",
     "output_type": "stream",
     "text": [
      "Epoch #32\n",
      "Mean epoch loss: 1.5419556035129776\n"
     ]
    },
    {
     "name": "stderr",
     "output_type": "stream",
     "text": [
      " 22%|██▏       | 22539/102450 [50:12<2:43:18,  8.16it/s] "
     ]
    },
    {
     "name": "stdout",
     "output_type": "stream",
     "text": [
      "Epoch #33\n",
      "Mean epoch loss: 1.4845159711809843\n"
     ]
    },
    {
     "name": "stderr",
     "output_type": "stream",
     "text": [
      " 23%|██▎       | 23222/102450 [51:42<2:42:25,  8.13it/s] "
     ]
    },
    {
     "name": "stdout",
     "output_type": "stream",
     "text": [
      "Epoch #34\n",
      "Mean epoch loss: 1.4294299203166152\n"
     ]
    },
    {
     "name": "stderr",
     "output_type": "stream",
     "text": [
      " 23%|██▎       | 23905/102450 [53:12<2:40:47,  8.14it/s] "
     ]
    },
    {
     "name": "stdout",
     "output_type": "stream",
     "text": [
      "Epoch #35\n",
      "Mean epoch loss: 1.380913507013335\n"
     ]
    },
    {
     "name": "stderr",
     "output_type": "stream",
     "text": [
      " 24%|██▍       | 24588/102450 [54:42<2:39:48,  8.12it/s] "
     ]
    },
    {
     "name": "stdout",
     "output_type": "stream",
     "text": [
      "Epoch #36\n",
      "Mean epoch loss: 1.3349162320965031\n"
     ]
    },
    {
     "name": "stderr",
     "output_type": "stream",
     "text": [
      " 25%|██▍       | 25271/102450 [56:12<2:37:42,  8.16it/s] "
     ]
    },
    {
     "name": "stdout",
     "output_type": "stream",
     "text": [
      "Epoch #37\n",
      "Mean epoch loss: 1.291623963618523\n"
     ]
    },
    {
     "name": "stderr",
     "output_type": "stream",
     "text": [
      " 25%|██▌       | 25954/102450 [57:41<2:36:38,  8.14it/s] "
     ]
    },
    {
     "name": "stdout",
     "output_type": "stream",
     "text": [
      "Epoch #38\n",
      "Mean epoch loss: 1.252757324306717\n"
     ]
    },
    {
     "name": "stderr",
     "output_type": "stream",
     "text": [
      " 26%|██▌       | 26637/102450 [59:11<2:35:30,  8.13it/s] "
     ]
    },
    {
     "name": "stdout",
     "output_type": "stream",
     "text": [
      "Epoch #39\n",
      "Mean epoch loss: 1.2137452245282219\n"
     ]
    },
    {
     "name": "stderr",
     "output_type": "stream",
     "text": [
      " 27%|██▋       | 27320/102450 [1:00:42<2:34:03,  8.13it/s]"
     ]
    },
    {
     "name": "stdout",
     "output_type": "stream",
     "text": [
      "Epoch #40\n",
      "Mean epoch loss: 1.178842186404182\n",
      "\n",
      "*** New best: spearman_r = 0.8601\n",
      "*** New best: pearson_r = 0.8855\n",
      "\n"
     ]
    },
    {
     "name": "stderr",
     "output_type": "stream",
     "text": [
      " 27%|██▋       | 28003/102450 [1:02:23<2:32:21,  8.14it/s]  "
     ]
    },
    {
     "name": "stdout",
     "output_type": "stream",
     "text": [
      "Epoch #41\n",
      "Mean epoch loss: 1.146861492191192\n"
     ]
    },
    {
     "name": "stderr",
     "output_type": "stream",
     "text": [
      " 28%|██▊       | 28686/102450 [1:03:53<2:31:07,  8.14it/s] "
     ]
    },
    {
     "name": "stdout",
     "output_type": "stream",
     "text": [
      "Epoch #42\n",
      "Mean epoch loss: 1.1141331580687057\n"
     ]
    },
    {
     "name": "stderr",
     "output_type": "stream",
     "text": [
      " 29%|██▊       | 29369/102450 [1:05:23<2:29:53,  8.13it/s] "
     ]
    },
    {
     "name": "stdout",
     "output_type": "stream",
     "text": [
      "Epoch #43\n",
      "Mean epoch loss: 1.0820051127960182\n"
     ]
    },
    {
     "name": "stderr",
     "output_type": "stream",
     "text": [
      " 29%|██▉       | 30052/102450 [1:06:53<2:28:26,  8.13it/s] "
     ]
    },
    {
     "name": "stdout",
     "output_type": "stream",
     "text": [
      "Epoch #44\n",
      "Mean epoch loss: 1.0550205675260564\n"
     ]
    },
    {
     "name": "stderr",
     "output_type": "stream",
     "text": [
      " 30%|███       | 30735/102450 [1:08:23<2:27:11,  8.12it/s] "
     ]
    },
    {
     "name": "stdout",
     "output_type": "stream",
     "text": [
      "Epoch #45\n",
      "Mean epoch loss: 1.0274560461107145\n"
     ]
    },
    {
     "name": "stderr",
     "output_type": "stream",
     "text": [
      " 31%|███       | 31418/102450 [1:09:53<2:25:35,  8.13it/s] "
     ]
    },
    {
     "name": "stdout",
     "output_type": "stream",
     "text": [
      "Epoch #46\n",
      "Mean epoch loss: 0.9999807784183832\n"
     ]
    },
    {
     "name": "stderr",
     "output_type": "stream",
     "text": [
      " 31%|███▏      | 32101/102450 [1:11:25<2:24:31,  8.11it/s] "
     ]
    },
    {
     "name": "stdout",
     "output_type": "stream",
     "text": [
      "Epoch #47\n",
      "Mean epoch loss: 0.9769540886404224\n"
     ]
    },
    {
     "name": "stderr",
     "output_type": "stream",
     "text": [
      " 32%|███▏      | 32784/102450 [1:12:55<2:22:52,  8.13it/s] "
     ]
    },
    {
     "name": "stdout",
     "output_type": "stream",
     "text": [
      "Epoch #48\n",
      "Mean epoch loss: 0.9520076624994571\n"
     ]
    },
    {
     "name": "stderr",
     "output_type": "stream",
     "text": [
      " 33%|███▎      | 33467/102450 [1:14:25<2:21:39,  8.12it/s] "
     ]
    },
    {
     "name": "stdout",
     "output_type": "stream",
     "text": [
      "Epoch #49\n",
      "Mean epoch loss: 0.9298930828777274\n"
     ]
    },
    {
     "name": "stderr",
     "output_type": "stream",
     "text": [
      " 33%|███▎      | 34150/102450 [1:15:55<2:20:13,  8.12it/s] "
     ]
    },
    {
     "name": "stdout",
     "output_type": "stream",
     "text": [
      "Epoch #50\n",
      "Mean epoch loss: 0.9082617812938606\n",
      "\n",
      "*** New best: spearman_r = 0.8616\n",
      "*** New best: pearson_r = 0.8937\n",
      "\n"
     ]
    },
    {
     "name": "stderr",
     "output_type": "stream",
     "text": [
      " 34%|███▍      | 34833/102450 [1:17:36<2:18:36,  8.13it/s] "
     ]
    },
    {
     "name": "stdout",
     "output_type": "stream",
     "text": [
      "Epoch #51\n",
      "Mean epoch loss: 0.8882354415876799\n"
     ]
    },
    {
     "name": "stderr",
     "output_type": "stream",
     "text": [
      " 35%|███▍      | 35516/102450 [1:19:06<2:17:09,  8.13it/s] "
     ]
    },
    {
     "name": "stdout",
     "output_type": "stream",
     "text": [
      "Epoch #52\n",
      "Mean epoch loss: 0.8677386048946688\n"
     ]
    },
    {
     "name": "stderr",
     "output_type": "stream",
     "text": [
      " 35%|███▌      | 36199/102450 [1:20:36<2:15:43,  8.14it/s] "
     ]
    },
    {
     "name": "stdout",
     "output_type": "stream",
     "text": [
      "Epoch #53\n",
      "Mean epoch loss: 0.8474192961417738\n"
     ]
    },
    {
     "name": "stderr",
     "output_type": "stream",
     "text": [
      " 36%|███▌      | 36882/102450 [1:22:05<2:14:27,  8.13it/s] "
     ]
    },
    {
     "name": "stdout",
     "output_type": "stream",
     "text": [
      "Epoch #54\n",
      "Mean epoch loss: 0.82918285494493\n"
     ]
    },
    {
     "name": "stderr",
     "output_type": "stream",
     "text": [
      " 37%|███▋      | 37565/102450 [1:23:35<2:13:35,  8.09it/s] "
     ]
    },
    {
     "name": "stdout",
     "output_type": "stream",
     "text": [
      "Epoch #55\n",
      "Mean epoch loss: 0.811225963808258\n"
     ]
    },
    {
     "name": "stderr",
     "output_type": "stream",
     "text": [
      " 37%|███▋      | 38248/102450 [1:25:05<2:11:35,  8.13it/s] "
     ]
    },
    {
     "name": "stdout",
     "output_type": "stream",
     "text": [
      "Epoch #56\n",
      "Mean epoch loss: 0.7958197887785089\n"
     ]
    },
    {
     "name": "stderr",
     "output_type": "stream",
     "text": [
      " 38%|███▊      | 38931/102450 [1:26:35<2:10:57,  8.08it/s] "
     ]
    },
    {
     "name": "stdout",
     "output_type": "stream",
     "text": [
      "Epoch #57\n",
      "Mean epoch loss: 0.7787909941477796\n"
     ]
    },
    {
     "name": "stderr",
     "output_type": "stream",
     "text": [
      " 39%|███▊      | 39614/102450 [1:28:05<2:09:00,  8.12it/s] "
     ]
    },
    {
     "name": "stdout",
     "output_type": "stream",
     "text": [
      "Epoch #58\n",
      "Mean epoch loss: 0.7629334593238104\n"
     ]
    },
    {
     "name": "stderr",
     "output_type": "stream",
     "text": [
      " 39%|███▉      | 40297/102450 [1:29:35<2:07:25,  8.13it/s] "
     ]
    },
    {
     "name": "stdout",
     "output_type": "stream",
     "text": [
      "Epoch #59\n",
      "Mean epoch loss: 0.7484922728461717\n"
     ]
    },
    {
     "name": "stderr",
     "output_type": "stream",
     "text": [
      " 40%|████      | 40980/102450 [1:31:04<2:06:03,  8.13it/s] "
     ]
    },
    {
     "name": "stdout",
     "output_type": "stream",
     "text": [
      "Epoch #60\n",
      "Mean epoch loss: 0.7345112670392976\n",
      "\n",
      "*** New best: spearman_r = 0.8625\n",
      "*** New best: pearson_r = 0.8996\n",
      "\n"
     ]
    },
    {
     "name": "stderr",
     "output_type": "stream",
     "text": [
      " 41%|████      | 41663/102450 [1:32:46<2:04:33,  8.13it/s] "
     ]
    },
    {
     "name": "stdout",
     "output_type": "stream",
     "text": [
      "Epoch #61\n",
      "Mean epoch loss: 0.7220601957853158\n"
     ]
    },
    {
     "name": "stderr",
     "output_type": "stream",
     "text": [
      " 41%|████▏     | 42346/102450 [1:34:16<2:03:03,  8.14it/s] "
     ]
    },
    {
     "name": "stdout",
     "output_type": "stream",
     "text": [
      "Epoch #62\n",
      "Mean epoch loss: 0.7072829032537703\n"
     ]
    },
    {
     "name": "stderr",
     "output_type": "stream",
     "text": [
      " 42%|████▏     | 43029/102450 [1:35:45<2:02:10,  8.11it/s] "
     ]
    },
    {
     "name": "stdout",
     "output_type": "stream",
     "text": [
      "Epoch #63\n",
      "Mean epoch loss: 0.6958118098546611\n"
     ]
    },
    {
     "name": "stderr",
     "output_type": "stream",
     "text": [
      " 43%|████▎     | 43712/102450 [1:37:15<2:00:42,  8.11it/s] "
     ]
    },
    {
     "name": "stdout",
     "output_type": "stream",
     "text": [
      "Epoch #64\n",
      "Mean epoch loss: 0.6848058766885872\n"
     ]
    },
    {
     "name": "stderr",
     "output_type": "stream",
     "text": [
      " 43%|████▎     | 44395/102450 [1:38:45<1:59:20,  8.11it/s] "
     ]
    },
    {
     "name": "stdout",
     "output_type": "stream",
     "text": [
      "Epoch #65\n",
      "Mean epoch loss: 0.6728639798143423\n"
     ]
    },
    {
     "name": "stderr",
     "output_type": "stream",
     "text": [
      " 44%|████▍     | 45078/102450 [1:40:15<1:57:43,  8.12it/s] "
     ]
    },
    {
     "name": "stdout",
     "output_type": "stream",
     "text": [
      "Epoch #66\n",
      "Mean epoch loss: 0.6606102502887106\n"
     ]
    },
    {
     "name": "stderr",
     "output_type": "stream",
     "text": [
      " 45%|████▍     | 45761/102450 [1:41:45<1:56:38,  8.10it/s] "
     ]
    },
    {
     "name": "stdout",
     "output_type": "stream",
     "text": [
      "Epoch #67\n",
      "Mean epoch loss: 0.651904144363906\n"
     ]
    },
    {
     "name": "stderr",
     "output_type": "stream",
     "text": [
      " 45%|████▌     | 46444/102450 [1:43:15<1:55:04,  8.11it/s] "
     ]
    },
    {
     "name": "stdout",
     "output_type": "stream",
     "text": [
      "Epoch #68\n",
      "Mean epoch loss: 0.6419729922910385\n"
     ]
    },
    {
     "name": "stderr",
     "output_type": "stream",
     "text": [
      " 46%|████▌     | 47127/102450 [1:44:45<1:53:38,  8.11it/s] "
     ]
    },
    {
     "name": "stdout",
     "output_type": "stream",
     "text": [
      "Epoch #69\n",
      "Mean epoch loss: 0.6321810528875969\n"
     ]
    },
    {
     "name": "stderr",
     "output_type": "stream",
     "text": [
      " 47%|████▋     | 47810/102450 [1:46:16<1:54:11,  7.97it/s] "
     ]
    },
    {
     "name": "stdout",
     "output_type": "stream",
     "text": [
      "Epoch #70\n",
      "Mean epoch loss: 0.6243421876936671\n",
      "\n",
      "*** New best: spearman_r = 0.8631\n",
      "*** New best: pearson_r = 0.9043\n",
      "\n"
     ]
    },
    {
     "name": "stderr",
     "output_type": "stream",
     "text": [
      " 47%|████▋     | 48493/102450 [1:48:01<1:51:47,  8.04it/s] "
     ]
    },
    {
     "name": "stdout",
     "output_type": "stream",
     "text": [
      "Epoch #71\n",
      "Mean epoch loss: 0.6153737394736417\n"
     ]
    },
    {
     "name": "stderr",
     "output_type": "stream",
     "text": [
      " 48%|████▊     | 49176/102450 [1:49:31<1:49:30,  8.11it/s] "
     ]
    },
    {
     "name": "stdout",
     "output_type": "stream",
     "text": [
      "Epoch #72\n",
      "Mean epoch loss: 0.6064192148724552\n"
     ]
    },
    {
     "name": "stderr",
     "output_type": "stream",
     "text": [
      " 49%|████▊     | 49859/102450 [1:51:01<1:48:17,  8.09it/s] "
     ]
    },
    {
     "name": "stdout",
     "output_type": "stream",
     "text": [
      "Epoch #73\n",
      "Mean epoch loss: 0.5987139036156248\n"
     ]
    },
    {
     "name": "stderr",
     "output_type": "stream",
     "text": [
      " 49%|████▉     | 50542/102450 [1:52:32<1:47:00,  8.09it/s] "
     ]
    },
    {
     "name": "stdout",
     "output_type": "stream",
     "text": [
      "Epoch #74\n",
      "Mean epoch loss: 0.5899596520608201\n"
     ]
    },
    {
     "name": "stderr",
     "output_type": "stream",
     "text": [
      " 50%|█████     | 51225/102450 [1:54:02<1:44:55,  8.14it/s] "
     ]
    },
    {
     "name": "stdout",
     "output_type": "stream",
     "text": [
      "Epoch #75\n",
      "Mean epoch loss: 0.5825240010311105\n"
     ]
    },
    {
     "name": "stderr",
     "output_type": "stream",
     "text": [
      " 51%|█████     | 51908/102450 [1:55:32<1:44:05,  8.09it/s] "
     ]
    },
    {
     "name": "stdout",
     "output_type": "stream",
     "text": [
      "Epoch #76\n",
      "Mean epoch loss: 0.5749773080317552\n"
     ]
    },
    {
     "name": "stderr",
     "output_type": "stream",
     "text": [
      " 51%|█████▏    | 52591/102450 [1:57:03<1:42:27,  8.11it/s] "
     ]
    },
    {
     "name": "stdout",
     "output_type": "stream",
     "text": [
      "Epoch #77\n",
      "Mean epoch loss: 0.5692069265626011\n"
     ]
    },
    {
     "name": "stderr",
     "output_type": "stream",
     "text": [
      " 52%|█████▏    | 53274/102450 [1:58:33<1:41:10,  8.10it/s] "
     ]
    },
    {
     "name": "stdout",
     "output_type": "stream",
     "text": [
      "Epoch #78\n",
      "Mean epoch loss: 0.5621104578584389\n"
     ]
    },
    {
     "name": "stderr",
     "output_type": "stream",
     "text": [
      " 53%|█████▎    | 53957/102450 [2:00:03<1:39:41,  8.11it/s] "
     ]
    },
    {
     "name": "stdout",
     "output_type": "stream",
     "text": [
      "Epoch #79\n",
      "Mean epoch loss: 0.5561336659407721\n"
     ]
    },
    {
     "name": "stderr",
     "output_type": "stream",
     "text": [
      " 53%|█████▎    | 54640/102450 [2:01:33<1:38:40,  8.08it/s] "
     ]
    },
    {
     "name": "stdout",
     "output_type": "stream",
     "text": [
      "Epoch #80\n",
      "Mean epoch loss: 0.5495222932597729\n",
      "\n",
      "*** New best: spearman_r = 0.8634\n",
      "*** New best: pearson_r = 0.9067\n",
      "\n"
     ]
    },
    {
     "name": "stderr",
     "output_type": "stream",
     "text": [
      " 54%|█████▍    | 55323/102450 [2:03:15<1:36:50,  8.11it/s] "
     ]
    },
    {
     "name": "stdout",
     "output_type": "stream",
     "text": [
      "Epoch #81\n",
      "Mean epoch loss: 0.5435407332323307\n"
     ]
    },
    {
     "name": "stderr",
     "output_type": "stream",
     "text": [
      " 55%|█████▍    | 56006/102450 [2:04:45<1:35:03,  8.14it/s] "
     ]
    },
    {
     "name": "stdout",
     "output_type": "stream",
     "text": [
      "Epoch #82\n",
      "Mean epoch loss: 0.5377429000716957\n"
     ]
    },
    {
     "name": "stderr",
     "output_type": "stream",
     "text": [
      " 55%|█████▌    | 56689/102450 [2:06:15<1:34:01,  8.11it/s] "
     ]
    },
    {
     "name": "stdout",
     "output_type": "stream",
     "text": [
      "Epoch #83\n",
      "Mean epoch loss: 0.5316294932609771\n"
     ]
    },
    {
     "name": "stderr",
     "output_type": "stream",
     "text": [
      " 56%|█████▌    | 57372/102450 [2:07:45<1:32:34,  8.12it/s] "
     ]
    },
    {
     "name": "stdout",
     "output_type": "stream",
     "text": [
      "Epoch #84\n",
      "Mean epoch loss: 0.5264982862144403\n"
     ]
    },
    {
     "name": "stderr",
     "output_type": "stream",
     "text": [
      " 57%|█████▋    | 58055/102450 [2:09:15<1:31:28,  8.09it/s] "
     ]
    },
    {
     "name": "stdout",
     "output_type": "stream",
     "text": [
      "Epoch #85\n",
      "Mean epoch loss: 0.5216721748363221\n"
     ]
    },
    {
     "name": "stderr",
     "output_type": "stream",
     "text": [
      " 57%|█████▋    | 58738/102450 [2:10:46<1:29:47,  8.11it/s] "
     ]
    },
    {
     "name": "stdout",
     "output_type": "stream",
     "text": [
      "Epoch #86\n",
      "Mean epoch loss: 0.5173016725050757\n"
     ]
    },
    {
     "name": "stderr",
     "output_type": "stream",
     "text": [
      " 58%|█████▊    | 59421/102450 [2:12:16<1:28:28,  8.11it/s] "
     ]
    },
    {
     "name": "stdout",
     "output_type": "stream",
     "text": [
      "Epoch #87\n",
      "Mean epoch loss: 0.5120587936693892\n"
     ]
    },
    {
     "name": "stderr",
     "output_type": "stream",
     "text": [
      " 59%|█████▊    | 60104/102450 [2:13:46<1:27:11,  8.09it/s] "
     ]
    },
    {
     "name": "stdout",
     "output_type": "stream",
     "text": [
      "Epoch #88\n",
      "Mean epoch loss: 0.5070987664937624\n"
     ]
    },
    {
     "name": "stderr",
     "output_type": "stream",
     "text": [
      " 59%|█████▉    | 60787/102450 [2:15:16<1:25:27,  8.13it/s] "
     ]
    },
    {
     "name": "stdout",
     "output_type": "stream",
     "text": [
      "Epoch #89\n",
      "Mean epoch loss: 0.5021827065578143\n"
     ]
    },
    {
     "name": "stderr",
     "output_type": "stream",
     "text": [
      " 60%|██████    | 61470/102450 [2:16:47<1:24:25,  8.09it/s] "
     ]
    },
    {
     "name": "stdout",
     "output_type": "stream",
     "text": [
      "Epoch #90\n",
      "Mean epoch loss: 0.4977820127286115\n",
      "\n",
      "*** New best: spearman_r = 0.8636\n",
      "*** New best: pearson_r = 0.9086\n",
      "\n"
     ]
    },
    {
     "name": "stderr",
     "output_type": "stream",
     "text": [
      " 61%|██████    | 62153/102450 [2:18:28<1:22:44,  8.12it/s] "
     ]
    },
    {
     "name": "stdout",
     "output_type": "stream",
     "text": [
      "Epoch #91\n",
      "Mean epoch loss: 0.49346355633540173\n"
     ]
    },
    {
     "name": "stderr",
     "output_type": "stream",
     "text": [
      " 61%|██████▏   | 62836/102450 [2:19:59<1:21:35,  8.09it/s] "
     ]
    },
    {
     "name": "stdout",
     "output_type": "stream",
     "text": [
      "Epoch #92\n",
      "Mean epoch loss: 0.48837297705396204\n"
     ]
    },
    {
     "name": "stderr",
     "output_type": "stream",
     "text": [
      " 62%|██████▏   | 63519/102450 [2:21:29<1:20:02,  8.11it/s] "
     ]
    },
    {
     "name": "stdout",
     "output_type": "stream",
     "text": [
      "Epoch #93\n",
      "Mean epoch loss: 0.4847008907515692\n"
     ]
    },
    {
     "name": "stderr",
     "output_type": "stream",
     "text": [
      " 63%|██████▎   | 64202/102450 [2:22:59<1:18:43,  8.10it/s] "
     ]
    },
    {
     "name": "stdout",
     "output_type": "stream",
     "text": [
      "Epoch #94\n",
      "Mean epoch loss: 0.4817320037725904\n"
     ]
    },
    {
     "name": "stderr",
     "output_type": "stream",
     "text": [
      " 63%|██████▎   | 64885/102450 [2:24:32<1:17:21,  8.09it/s] "
     ]
    },
    {
     "name": "stdout",
     "output_type": "stream",
     "text": [
      "Epoch #95\n",
      "Mean epoch loss: 0.4778487602927849\n"
     ]
    },
    {
     "name": "stderr",
     "output_type": "stream",
     "text": [
      " 64%|██████▍   | 65568/102450 [2:26:02<1:15:33,  8.14it/s] "
     ]
    },
    {
     "name": "stdout",
     "output_type": "stream",
     "text": [
      "Epoch #96\n",
      "Mean epoch loss: 0.4733729559715461\n"
     ]
    },
    {
     "name": "stderr",
     "output_type": "stream",
     "text": [
      " 65%|██████▍   | 66251/102450 [2:27:33<1:14:23,  8.11it/s] "
     ]
    },
    {
     "name": "stdout",
     "output_type": "stream",
     "text": [
      "Epoch #97\n",
      "Mean epoch loss: 0.46987789672953495\n"
     ]
    },
    {
     "name": "stderr",
     "output_type": "stream",
     "text": [
      " 65%|██████▌   | 66934/102450 [2:29:03<1:12:53,  8.12it/s] "
     ]
    },
    {
     "name": "stdout",
     "output_type": "stream",
     "text": [
      "Epoch #98\n",
      "Mean epoch loss: 0.4674008544070829\n"
     ]
    },
    {
     "name": "stderr",
     "output_type": "stream",
     "text": [
      " 66%|██████▌   | 67617/102450 [2:30:34<1:11:44,  8.09it/s] "
     ]
    },
    {
     "name": "stdout",
     "output_type": "stream",
     "text": [
      "Epoch #99\n",
      "Mean epoch loss: 0.463904147266818\n"
     ]
    },
    {
     "name": "stderr",
     "output_type": "stream",
     "text": [
      " 67%|██████▋   | 68300/102450 [2:32:04<1:10:14,  8.10it/s] "
     ]
    },
    {
     "name": "stdout",
     "output_type": "stream",
     "text": [
      "Epoch #100\n",
      "Mean epoch loss: 0.46061544323211884\n",
      "\n",
      "*** New best: spearman_r = 0.8638\n",
      "*** New best: pearson_r = 0.9104\n",
      "\n"
     ]
    },
    {
     "name": "stderr",
     "output_type": "stream",
     "text": [
      " 67%|██████▋   | 68983/102450 [2:33:47<1:08:46,  8.11it/s] "
     ]
    },
    {
     "name": "stdout",
     "output_type": "stream",
     "text": [
      "Epoch #101\n",
      "Mean epoch loss: 0.4581365369336671\n"
     ]
    },
    {
     "name": "stderr",
     "output_type": "stream",
     "text": [
      " 68%|██████▊   | 69666/102450 [2:35:17<1:07:16,  8.12it/s] "
     ]
    },
    {
     "name": "stdout",
     "output_type": "stream",
     "text": [
      "Epoch #102\n",
      "Mean epoch loss: 0.454394267122009\n"
     ]
    },
    {
     "name": "stderr",
     "output_type": "stream",
     "text": [
      " 69%|██████▊   | 70349/102450 [2:36:48<1:05:51,  8.12it/s] "
     ]
    },
    {
     "name": "stdout",
     "output_type": "stream",
     "text": [
      "Epoch #103\n",
      "Mean epoch loss: 0.4514841614059264\n"
     ]
    },
    {
     "name": "stderr",
     "output_type": "stream",
     "text": [
      " 69%|██████▉   | 71032/102450 [2:38:18<1:04:35,  8.11it/s] "
     ]
    },
    {
     "name": "stdout",
     "output_type": "stream",
     "text": [
      "Epoch #104\n",
      "Mean epoch loss: 0.4479180051240181\n"
     ]
    },
    {
     "name": "stderr",
     "output_type": "stream",
     "text": [
      " 70%|███████   | 71715/102450 [2:39:49<1:03:01,  8.13it/s] "
     ]
    },
    {
     "name": "stdout",
     "output_type": "stream",
     "text": [
      "Epoch #105\n",
      "Mean epoch loss: 0.44561569626125375\n"
     ]
    },
    {
     "name": "stderr",
     "output_type": "stream",
     "text": [
      " 71%|███████   | 72398/102450 [2:41:19<1:01:47,  8.11it/s] "
     ]
    },
    {
     "name": "stdout",
     "output_type": "stream",
     "text": [
      "Epoch #106\n",
      "Mean epoch loss: 0.4433179029957616\n"
     ]
    },
    {
     "name": "stderr",
     "output_type": "stream",
     "text": [
      " 71%|███████▏  | 73081/102450 [2:42:50<1:00:17,  8.12it/s] "
     ]
    },
    {
     "name": "stdout",
     "output_type": "stream",
     "text": [
      "Epoch #107\n",
      "Mean epoch loss: 0.4406870206487999\n"
     ]
    },
    {
     "name": "stderr",
     "output_type": "stream",
     "text": [
      " 72%|███████▏  | 73764/102450 [2:44:20<59:01,  8.10it/s]   "
     ]
    },
    {
     "name": "stdout",
     "output_type": "stream",
     "text": [
      "Epoch #108\n",
      "Mean epoch loss: 0.43707640829058375\n"
     ]
    },
    {
     "name": "stderr",
     "output_type": "stream",
     "text": [
      " 73%|███████▎  | 74447/102450 [2:45:51<57:35,  8.10it/s]   "
     ]
    },
    {
     "name": "stdout",
     "output_type": "stream",
     "text": [
      "Epoch #109\n",
      "Mean epoch loss: 0.4353242855120892\n"
     ]
    },
    {
     "name": "stderr",
     "output_type": "stream",
     "text": [
      " 73%|███████▎  | 75130/102450 [2:47:22<55:54,  8.14it/s]   "
     ]
    },
    {
     "name": "stdout",
     "output_type": "stream",
     "text": [
      "Epoch #110\n",
      "Mean epoch loss: 0.43347047472244477\n",
      "\n",
      "*** New best: spearman_r = 0.8639\n",
      "*** New best: pearson_r = 0.9119\n",
      "\n"
     ]
    },
    {
     "name": "stderr",
     "output_type": "stream",
     "text": [
      " 74%|███████▍  | 75813/102450 [2:49:04<54:42,  8.11it/s]   "
     ]
    },
    {
     "name": "stdout",
     "output_type": "stream",
     "text": [
      "Epoch #111\n",
      "Mean epoch loss: 0.43094707015318195\n"
     ]
    },
    {
     "name": "stderr",
     "output_type": "stream",
     "text": [
      " 75%|███████▍  | 76496/102450 [2:50:35<53:13,  8.13it/s]   "
     ]
    },
    {
     "name": "stdout",
     "output_type": "stream",
     "text": [
      "Epoch #112\n",
      "Mean epoch loss: 0.42907725996712814\n"
     ]
    },
    {
     "name": "stderr",
     "output_type": "stream",
     "text": [
      " 75%|███████▌  | 77179/102450 [2:52:05<51:58,  8.10it/s]   "
     ]
    },
    {
     "name": "stdout",
     "output_type": "stream",
     "text": [
      "Epoch #113\n",
      "Mean epoch loss: 0.4275197304272547\n"
     ]
    },
    {
     "name": "stderr",
     "output_type": "stream",
     "text": [
      " 76%|███████▌  | 77862/102450 [2:53:36<50:33,  8.10it/s]   "
     ]
    },
    {
     "name": "stdout",
     "output_type": "stream",
     "text": [
      "Epoch #114\n",
      "Mean epoch loss: 0.42501659706605827\n"
     ]
    },
    {
     "name": "stderr",
     "output_type": "stream",
     "text": [
      " 77%|███████▋  | 78545/102450 [2:55:06<49:06,  8.11it/s]   "
     ]
    },
    {
     "name": "stdout",
     "output_type": "stream",
     "text": [
      "Epoch #115\n",
      "Mean epoch loss: 0.42225801141858976\n"
     ]
    },
    {
     "name": "stderr",
     "output_type": "stream",
     "text": [
      " 77%|███████▋  | 79228/102450 [2:56:37<47:44,  8.11it/s]   "
     ]
    },
    {
     "name": "stdout",
     "output_type": "stream",
     "text": [
      "Epoch #116\n",
      "Mean epoch loss: 0.42118533350538195\n"
     ]
    },
    {
     "name": "stderr",
     "output_type": "stream",
     "text": [
      " 78%|███████▊  | 79911/102450 [2:58:07<46:16,  8.12it/s]   "
     ]
    },
    {
     "name": "stdout",
     "output_type": "stream",
     "text": [
      "Epoch #117\n",
      "Mean epoch loss: 0.41894967803843375\n"
     ]
    },
    {
     "name": "stderr",
     "output_type": "stream",
     "text": [
      " 79%|███████▊  | 80594/102450 [2:59:38<44:56,  8.10it/s]   "
     ]
    },
    {
     "name": "stdout",
     "output_type": "stream",
     "text": [
      "Epoch #118\n",
      "Mean epoch loss: 0.4172940009858563\n"
     ]
    },
    {
     "name": "stderr",
     "output_type": "stream",
     "text": [
      " 79%|███████▉  | 81277/102450 [3:01:09<43:25,  8.13it/s]   "
     ]
    },
    {
     "name": "stdout",
     "output_type": "stream",
     "text": [
      "Epoch #119\n",
      "Mean epoch loss: 0.41561998258921623\n"
     ]
    },
    {
     "name": "stderr",
     "output_type": "stream",
     "text": [
      " 80%|████████  | 81960/102450 [3:02:41<42:08,  8.10it/s]   "
     ]
    },
    {
     "name": "stdout",
     "output_type": "stream",
     "text": [
      "Epoch #120\n",
      "Mean epoch loss: 0.41355357145669697\n",
      "\n",
      "*** New best: spearman_r = 0.864\n",
      "*** New best: pearson_r = 0.9127\n",
      "\n"
     ]
    },
    {
     "name": "stderr",
     "output_type": "stream",
     "text": [
      " 81%|████████  | 82643/102450 [3:04:24<40:40,  8.12it/s]   "
     ]
    },
    {
     "name": "stdout",
     "output_type": "stream",
     "text": [
      "Epoch #121\n",
      "Mean epoch loss: 0.4116005410997969\n"
     ]
    },
    {
     "name": "stderr",
     "output_type": "stream",
     "text": [
      " 81%|████████▏ | 83326/102450 [3:05:55<39:22,  8.09it/s]   "
     ]
    },
    {
     "name": "stdout",
     "output_type": "stream",
     "text": [
      "Epoch #122\n",
      "Mean epoch loss: 0.41120644688257185\n"
     ]
    },
    {
     "name": "stderr",
     "output_type": "stream",
     "text": [
      " 82%|████████▏ | 84009/102450 [3:07:26<37:56,  8.10it/s]   "
     ]
    },
    {
     "name": "stdout",
     "output_type": "stream",
     "text": [
      "Epoch #123\n",
      "Mean epoch loss: 0.4090812884347505\n"
     ]
    },
    {
     "name": "stderr",
     "output_type": "stream",
     "text": [
      " 83%|████████▎ | 84692/102450 [3:08:56<36:27,  8.12it/s]   "
     ]
    },
    {
     "name": "stdout",
     "output_type": "stream",
     "text": [
      "Epoch #124\n",
      "Mean epoch loss: 0.40773360285018934\n"
     ]
    },
    {
     "name": "stderr",
     "output_type": "stream",
     "text": [
      " 83%|████████▎ | 85375/102450 [3:10:27<35:01,  8.13it/s]  "
     ]
    },
    {
     "name": "stdout",
     "output_type": "stream",
     "text": [
      "Epoch #125\n",
      "Mean epoch loss: 0.40656081828156465\n"
     ]
    },
    {
     "name": "stderr",
     "output_type": "stream",
     "text": [
      " 84%|████████▍ | 86058/102450 [3:11:58<33:44,  8.10it/s]  "
     ]
    },
    {
     "name": "stdout",
     "output_type": "stream",
     "text": [
      "Epoch #126\n",
      "Mean epoch loss: 0.4056398685732488\n"
     ]
    },
    {
     "name": "stderr",
     "output_type": "stream",
     "text": [
      " 85%|████████▍ | 86741/102450 [3:13:29<32:23,  8.08it/s]  "
     ]
    },
    {
     "name": "stdout",
     "output_type": "stream",
     "text": [
      "Epoch #127\n",
      "Mean epoch loss: 0.40347308526974646\n"
     ]
    },
    {
     "name": "stderr",
     "output_type": "stream",
     "text": [
      " 85%|████████▌ | 87424/102450 [3:15:00<30:50,  8.12it/s]  "
     ]
    },
    {
     "name": "stdout",
     "output_type": "stream",
     "text": [
      "Epoch #128\n",
      "Mean epoch loss: 0.402722597776709\n"
     ]
    },
    {
     "name": "stderr",
     "output_type": "stream",
     "text": [
      " 86%|████████▌ | 88107/102450 [3:16:32<29:36,  8.07it/s]  "
     ]
    },
    {
     "name": "stdout",
     "output_type": "stream",
     "text": [
      "Epoch #129\n",
      "Mean epoch loss: 0.40056508631168664\n"
     ]
    },
    {
     "name": "stderr",
     "output_type": "stream",
     "text": [
      " 87%|████████▋ | 88790/102450 [3:18:03<28:07,  8.10it/s]  "
     ]
    },
    {
     "name": "stdout",
     "output_type": "stream",
     "text": [
      "Epoch #130\n",
      "Mean epoch loss: 0.4008040883268828\n",
      "\n",
      "*** New best: spearman_r = 0.8641\n",
      "*** New best: pearson_r = 0.9134\n",
      "\n"
     ]
    },
    {
     "name": "stderr",
     "output_type": "stream",
     "text": [
      " 87%|████████▋ | 89473/102450 [3:19:46<26:38,  8.12it/s]   "
     ]
    },
    {
     "name": "stdout",
     "output_type": "stream",
     "text": [
      "Epoch #131\n",
      "Mean epoch loss: 0.39965073884318897\n"
     ]
    },
    {
     "name": "stderr",
     "output_type": "stream",
     "text": [
      " 88%|████████▊ | 90156/102450 [3:21:17<25:18,  8.09it/s]  "
     ]
    },
    {
     "name": "stdout",
     "output_type": "stream",
     "text": [
      "Epoch #132\n",
      "Mean epoch loss: 0.39835789633879376\n"
     ]
    },
    {
     "name": "stderr",
     "output_type": "stream",
     "text": [
      " 89%|████████▊ | 90839/102450 [3:22:48<23:51,  8.11it/s]  "
     ]
    },
    {
     "name": "stdout",
     "output_type": "stream",
     "text": [
      "Epoch #133\n",
      "Mean epoch loss: 0.3975580867003557\n"
     ]
    },
    {
     "name": "stderr",
     "output_type": "stream",
     "text": [
      " 89%|████████▉ | 91522/102450 [3:24:19<22:31,  8.09it/s]  "
     ]
    },
    {
     "name": "stdout",
     "output_type": "stream",
     "text": [
      "Epoch #134\n",
      "Mean epoch loss: 0.3968283404019357\n"
     ]
    },
    {
     "name": "stderr",
     "output_type": "stream",
     "text": [
      " 90%|█████████ | 92205/102450 [3:25:49<20:59,  8.13it/s]  "
     ]
    },
    {
     "name": "stdout",
     "output_type": "stream",
     "text": [
      "Epoch #135\n",
      "Mean epoch loss: 0.39568749074530984\n"
     ]
    },
    {
     "name": "stderr",
     "output_type": "stream",
     "text": [
      " 91%|█████████ | 92888/102450 [3:27:20<19:43,  8.08it/s]  "
     ]
    },
    {
     "name": "stdout",
     "output_type": "stream",
     "text": [
      "Epoch #136\n",
      "Mean epoch loss: 0.39464123396538364\n"
     ]
    },
    {
     "name": "stderr",
     "output_type": "stream",
     "text": [
      " 91%|█████████▏| 93571/102450 [3:28:51<18:14,  8.11it/s]  "
     ]
    },
    {
     "name": "stdout",
     "output_type": "stream",
     "text": [
      "Epoch #137\n",
      "Mean epoch loss: 0.39394115018460624\n"
     ]
    },
    {
     "name": "stderr",
     "output_type": "stream",
     "text": [
      " 92%|█████████▏| 94254/102450 [3:30:22<16:50,  8.11it/s]  "
     ]
    },
    {
     "name": "stdout",
     "output_type": "stream",
     "text": [
      "Epoch #138\n",
      "Mean epoch loss: 0.39387297063062343\n"
     ]
    },
    {
     "name": "stderr",
     "output_type": "stream",
     "text": [
      " 93%|█████████▎| 94937/102450 [3:31:53<15:29,  8.08it/s]  "
     ]
    },
    {
     "name": "stdout",
     "output_type": "stream",
     "text": [
      "Epoch #139\n",
      "Mean epoch loss: 0.39385493267682076\n"
     ]
    },
    {
     "name": "stderr",
     "output_type": "stream",
     "text": [
      " 93%|█████████▎| 95620/102450 [3:33:24<14:02,  8.11it/s]  "
     ]
    },
    {
     "name": "stdout",
     "output_type": "stream",
     "text": [
      "Epoch #140\n",
      "Mean epoch loss: 0.39244823138151824\n",
      "\n",
      "spearman_r = 0.8641\n",
      "*** New best: pearson_r = 0.9137\n",
      "\n"
     ]
    },
    {
     "name": "stderr",
     "output_type": "stream",
     "text": [
      " 94%|█████████▍| 96303/102450 [3:35:07<12:38,  8.11it/s]   "
     ]
    },
    {
     "name": "stdout",
     "output_type": "stream",
     "text": [
      "Epoch #141\n",
      "Mean epoch loss: 0.3920801118299867\n"
     ]
    },
    {
     "name": "stderr",
     "output_type": "stream",
     "text": [
      " 95%|█████████▍| 96986/102450 [3:36:38<11:14,  8.10it/s]  "
     ]
    },
    {
     "name": "stdout",
     "output_type": "stream",
     "text": [
      "Epoch #142\n",
      "Mean epoch loss: 0.39157662284321876\n"
     ]
    },
    {
     "name": "stderr",
     "output_type": "stream",
     "text": [
      " 95%|█████████▌| 97669/102450 [3:38:09<09:50,  8.10it/s]  "
     ]
    },
    {
     "name": "stdout",
     "output_type": "stream",
     "text": [
      "Epoch #143\n",
      "Mean epoch loss: 0.3916330189603663\n"
     ]
    },
    {
     "name": "stderr",
     "output_type": "stream",
     "text": [
      " 96%|█████████▌| 98352/102450 [3:39:42<08:25,  8.11it/s]  "
     ]
    },
    {
     "name": "stdout",
     "output_type": "stream",
     "text": [
      "Epoch #144\n",
      "Mean epoch loss: 0.39002292663251675\n"
     ]
    },
    {
     "name": "stderr",
     "output_type": "stream",
     "text": [
      " 97%|█████████▋| 99035/102450 [3:41:13<07:01,  8.11it/s]  "
     ]
    },
    {
     "name": "stdout",
     "output_type": "stream",
     "text": [
      "Epoch #145\n",
      "Mean epoch loss: 0.3908119797706604\n"
     ]
    },
    {
     "name": "stderr",
     "output_type": "stream",
     "text": [
      " 97%|█████████▋| 99718/102450 [3:42:43<05:37,  8.10it/s]  "
     ]
    },
    {
     "name": "stdout",
     "output_type": "stream",
     "text": [
      "Epoch #146\n",
      "Mean epoch loss: 0.3900010206165286\n"
     ]
    },
    {
     "name": "stderr",
     "output_type": "stream",
     "text": [
      " 98%|█████████▊| 100401/102450 [3:44:14<04:12,  8.10it/s] "
     ]
    },
    {
     "name": "stdout",
     "output_type": "stream",
     "text": [
      "Epoch #147\n",
      "Mean epoch loss: 0.3906904322423837\n"
     ]
    },
    {
     "name": "stderr",
     "output_type": "stream",
     "text": [
      " 99%|█████████▊| 101084/102450 [3:45:44<02:48,  8.10it/s]  "
     ]
    },
    {
     "name": "stdout",
     "output_type": "stream",
     "text": [
      "Epoch #148\n",
      "Mean epoch loss: 0.3909447586728399\n"
     ]
    },
    {
     "name": "stderr",
     "output_type": "stream",
     "text": [
      " 99%|█████████▉| 101767/102450 [3:47:15<01:24,  8.10it/s]"
     ]
    },
    {
     "name": "stdout",
     "output_type": "stream",
     "text": [
      "Epoch #149\n",
      "Mean epoch loss: 0.38955496345397145\n"
     ]
    },
    {
     "name": "stderr",
     "output_type": "stream",
     "text": [
      "100%|██████████| 102450/102450 [3:48:46<00:00,  8.09it/s]"
     ]
    },
    {
     "name": "stdout",
     "output_type": "stream",
     "text": [
      "Epoch #150\n",
      "Mean epoch loss: 0.3899305074927049\n",
      "\n",
      "spearman_r = 0.8641\n",
      "*** New best: pearson_r = 0.9138\n",
      "\n"
     ]
    }
   ],
   "source": [
    "evaluation_pipeline.fit(epoch_num=150)"
   ]
  },
  {
   "cell_type": "code",
   "execution_count": null,
   "metadata": {},
   "outputs": [],
   "source": []
  }
 ],
 "metadata": {
  "kernelspec": {
   "display_name": "search_env",
   "language": "python",
   "name": "search_env"
  },
  "language_info": {
   "codemirror_mode": {
    "name": "ipython",
    "version": 3
   },
   "file_extension": ".py",
   "mimetype": "text/x-python",
   "name": "python",
   "nbconvert_exporter": "python",
   "pygments_lexer": "ipython3",
   "version": "3.7.0"
  }
 },
 "nbformat": 4,
 "nbformat_minor": 4
}
