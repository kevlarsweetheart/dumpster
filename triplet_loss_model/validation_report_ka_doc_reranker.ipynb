{
 "cells": [
  {
   "cell_type": "markdown",
   "metadata": {},
   "source": [
    "# Описание модели"
   ]
  },
  {
   "cell_type": "markdown",
   "metadata": {},
   "source": [
    "## Постановка задачи и использованные данные"
   ]
  },
  {
   "cell_type": "markdown",
   "metadata": {},
   "source": [
    "**БТ**:\n",
    "\n",
    "Во время обслуживания клиентов сотрудники КЦ пользуются справочными документами - так называемыми интерактивными схемами (ИС) - на портале Knowledge Assistant. Операторы не всегда точно знают, в какой схеме содержится ответ на вопрос клиента, в связи с чем возникает потребность автоматического поиска соответствующего документа. Для решения этой задачи разрабатывается модель оценки семантической близости между запросом и документом.\n",
    "\n",
    "**Данные**:\n",
    "\n",
    "Построение корпуса поисковых запросов и их разметка на документы в процессе, поэтому для создания прототипа поисковой модели использовались данные открытого датасета парафраз, который состоит из новостных заголовков и их перефразировок. Всего в корпусе 1998622 (~$2 \\cdot 10^6$) уникальных текста."
   ]
  },
  {
   "cell_type": "markdown",
   "metadata": {},
   "source": [
    "## Подготовка данных"
   ]
  },
  {
   "cell_type": "markdown",
   "metadata": {},
   "source": [
    "Как уже было упомянуто ранее, для обучения прототипа поисковой модели использовался открытый датасет парафраз новостных заголовков.  "
   ]
  },
  {
   "cell_type": "markdown",
   "metadata": {},
   "source": [
    "Из пар текстов и их перефразировок был сформирован корпус триплетов:\n",
    "- anchor - \"опорный\" текст\n",
    "- positive - положительный пример парафразы anchor-а\n",
    "- negative - отрицательный пример парафразы anchor-а (выбирается случайно из множества не связанных с anchor-ом текстов)"
   ]
  },
  {
   "cell_type": "markdown",
   "metadata": {},
   "source": [
    "## Формирование выборок"
   ]
  },
  {
   "cell_type": "markdown",
   "metadata": {},
   "source": [
    "Датасет триплетов разбит на train, val и test выборки в соотношении 70% / 20% / 10%"
   ]
  },
  {
   "cell_type": "markdown",
   "metadata": {},
   "source": [
    "## Описание модели"
   ]
  },
  {
   "cell_type": "markdown",
   "metadata": {},
   "source": [
    "Для ранжирования текстов-\"документов\" относительно текста-\"запроса\" используется косинусное расстояние между векторными представлениями этих текстов в качестве оценки семантической близости."
   ]
  },
  {
   "cell_type": "markdown",
   "metadata": {},
   "source": [
    "### Обучение векторных представлений текстов"
   ]
  },
  {
   "cell_type": "markdown",
   "metadata": {},
   "source": [
    "Архитектура модели-энкодера представляет собой сиамскую нейронную сеть с тремя входами для триплета \"anchor - positive - negative\".\n",
    "\n",
    "Каждый из входов разбивается на токены (токенизатором из библиотеки Keras), затем последовательность токенов индексируется по словарю, после чего кодируется модулями Embedding и BiLSTM (таблица Embedding инициализируется предобученными векторами FastText). На векторизированном таким образом триплете вычисляется softmax-loss для обучения параметров энкодера. "
   ]
  },
  {
   "cell_type": "markdown",
   "metadata": {},
   "source": [
    "<img src=\"model_architecture.png\">"
   ]
  },
  {
   "cell_type": "markdown",
   "metadata": {},
   "source": [
    "### Валидация"
   ]
  },
  {
   "cell_type": "markdown",
   "metadata": {},
   "source": [
    "Для оценки векторов, которые модель отдаёт на выходе в качестве эмбеддингов, считается косинусное расстояние между векторами пар \"anchor - positive\" и \"anchor - negative\", а затем вычисляется корреляция этого сходства с истинными значениями.\n",
    "\n",
    "В качестве метрики используется ранговая корреляция Пирсона и Спирмена с метками 1 и -1: считаем, что эмбеддинги положительной пары априори сонаправленные, между ними угол ноль, а эмбеддинги отрицательной - противоположные, между ними угол $\\pi$.   "
   ]
  },
  {
   "cell_type": "markdown",
   "metadata": {},
   "source": [
    "### Метрика оценки качества ранжирования"
   ]
  },
  {
   "cell_type": "markdown",
   "metadata": {},
   "source": [
    "Для оценки качества ранжирования используется метрика $MRR@K$ - среднеобратный ранг на топ-$K$ отобранных объектов для заданного. $K = 20$, так как на портале Knowledge Assistant для поискового запроса отображается 20 результатов (остальные документы подгружаются \"по требованию\").\n",
    "\n",
    "Был выбран именно $MRR$, так как он учитывает позицию первого верно предсказанного элемента в отранжированном списке. Оператору важно, чтобы документ, который содержит ответ на запрос, был как можно выше в поисковой выдаче. "
   ]
  },
  {
   "cell_type": "markdown",
   "metadata": {},
   "source": [
    "$$MRR@K = \\frac{1}{N}\\displaystyle\\sum_{j=1}^{N}RR@K_j$$"
   ]
  },
  {
   "cell_type": "markdown",
   "metadata": {},
   "source": [
    "$$RR@K = \\frac{1}{min\\{k \\in [1 \\dots K]: r^{true}(\\pi^{-1}(k)) = 1\\}}$$"
   ]
  },
  {
   "cell_type": "markdown",
   "metadata": {},
   "source": [
    "## Производительность"
   ]
  },
  {
   "cell_type": "markdown",
   "metadata": {},
   "source": [
    "* Среднее время построения вектора одного текста на CPU составляет **23.05 мс**. \n",
    "\n",
    "* Размер модели энкодера составляет **28.9 Mb**."
   ]
  },
  {
   "cell_type": "markdown",
   "metadata": {},
   "source": [
    "## Проверка качества модели"
   ]
  },
  {
   "cell_type": "markdown",
   "metadata": {},
   "source": [
    "### Качество модели на отложенной выборке"
   ]
  },
  {
   "cell_type": "markdown",
   "metadata": {},
   "source": [
    "Значение $MRR@20$ на тестовой выборке: $0.45$"
   ]
  },
  {
   "cell_type": "markdown",
   "metadata": {},
   "source": [
    " "
   ]
  },
  {
   "cell_type": "markdown",
   "metadata": {},
   "source": [
    " "
   ]
  },
  {
   "cell_type": "markdown",
   "metadata": {},
   "source": [
    " "
   ]
  },
  {
   "cell_type": "markdown",
   "metadata": {},
   "source": [
    " "
   ]
  },
  {
   "cell_type": "markdown",
   "metadata": {},
   "source": [
    " "
   ]
  },
  {
   "cell_type": "markdown",
   "metadata": {},
   "source": [
    " "
   ]
  },
  {
   "cell_type": "markdown",
   "metadata": {},
   "source": [
    " "
   ]
  },
  {
   "cell_type": "markdown",
   "metadata": {},
   "source": [
    " "
   ]
  },
  {
   "cell_type": "markdown",
   "metadata": {},
   "source": [
    " "
   ]
  },
  {
   "cell_type": "markdown",
   "metadata": {},
   "source": [
    " "
   ]
  },
  {
   "cell_type": "markdown",
   "metadata": {},
   "source": [
    " "
   ]
  },
  {
   "cell_type": "markdown",
   "metadata": {},
   "source": [
    " "
   ]
  },
  {
   "cell_type": "markdown",
   "metadata": {},
   "source": [
    " "
   ]
  },
  {
   "cell_type": "markdown",
   "metadata": {},
   "source": [
    " "
   ]
  },
  {
   "cell_type": "markdown",
   "metadata": {},
   "source": [
    " "
   ]
  },
  {
   "cell_type": "markdown",
   "metadata": {},
   "source": [
    " "
   ]
  }
 ],
 "metadata": {
  "kernelspec": {
   "display_name": "Python 3",
   "language": "python",
   "name": "python3"
  },
  "language_info": {
   "codemirror_mode": {
    "name": "ipython",
    "version": 3
   },
   "file_extension": ".py",
   "mimetype": "text/x-python",
   "name": "python",
   "nbconvert_exporter": "python",
   "pygments_lexer": "ipython3",
   "version": "3.7.0"
  },
  "toc": {
   "base_numbering": 1,
   "nav_menu": {},
   "number_sections": true,
   "sideBar": true,
   "skip_h1_title": false,
   "title_cell": "Table of Contents",
   "title_sidebar": "Contents",
   "toc_cell": false,
   "toc_position": {},
   "toc_section_display": true,
   "toc_window_display": false
  }
 },
 "nbformat": 4,
 "nbformat_minor": 2
}
